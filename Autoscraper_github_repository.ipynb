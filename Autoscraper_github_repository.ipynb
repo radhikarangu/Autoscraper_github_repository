{
 "cells": [
  {
   "cell_type": "code",
   "execution_count": 1,
   "metadata": {},
   "outputs": [
    {
     "name": "stdout",
     "output_type": "stream",
     "text": [
      "Requirement already satisfied: autoscraper in c:\\users\\radhika\\anaconda3\\lib\\site-packages (1.1.12)\n",
      "Requirement already satisfied: lxml in c:\\users\\radhika\\anaconda3\\lib\\site-packages (from autoscraper) (4.4.1)\n",
      "Requirement already satisfied: requests in c:\\users\\radhika\\anaconda3\\lib\\site-packages (from autoscraper) (2.22.0)\n",
      "Requirement already satisfied: bs4 in c:\\users\\radhika\\anaconda3\\lib\\site-packages (from autoscraper) (0.0.1)\n",
      "Requirement already satisfied: urllib3!=1.25.0,!=1.25.1,<1.26,>=1.21.1 in c:\\users\\radhika\\anaconda3\\lib\\site-packages (from requests->autoscraper) (1.24.2)\n",
      "Requirement already satisfied: idna<2.9,>=2.5 in c:\\users\\radhika\\anaconda3\\lib\\site-packages (from requests->autoscraper) (2.8)\n",
      "Requirement already satisfied: certifi>=2017.4.17 in c:\\users\\radhika\\anaconda3\\lib\\site-packages (from requests->autoscraper) (2019.9.11)\n",
      "Requirement already satisfied: chardet<3.1.0,>=3.0.2 in c:\\users\\radhika\\anaconda3\\lib\\site-packages (from requests->autoscraper) (3.0.4)\n",
      "Requirement already satisfied: beautifulsoup4 in c:\\users\\radhika\\anaconda3\\lib\\site-packages (from bs4->autoscraper) (4.8.0)\n",
      "Requirement already satisfied: soupsieve>=1.2 in c:\\users\\radhika\\anaconda3\\lib\\site-packages (from beautifulsoup4->bs4->autoscraper) (1.9.3)\n"
     ]
    }
   ],
   "source": [
    "!pip install autoscraper"
   ]
  },
  {
   "cell_type": "code",
   "execution_count": 3,
   "metadata": {},
   "outputs": [
    {
     "name": "stdout",
     "output_type": "stream",
     "text": [
      "['Iris-Data', 'Drawdata-Python-Library-To-Draw-Dataset-In-Jupyter-Notebook', 'Autoviz-Automatically-Visualize-Any-Dataset-With-Single-Line-Of-Code', 'Automating-WebScraping-Amazon-Ecommerce-Website-Using-AutoScrapper', 'GitDemo', 'Auto-Arima-Forecasting', 'flask_DAQ', 'Deployment-of-Credit-Card-Default-Predictor-using-Flask1', 'Deployment-of-Credit-Card-Default-Predictor-using-Flask', 'Technocolabs-DataScience-MiniProject', 'Feature-Engineering', 'Machine-Learning-Explainability', 'Learn-Intro-to-Machine-learning', 'Data-Manipulation', 'Data-Visualization', 'Data-Cleaning', 'Scaling-and-Normalization', 'Missing_values', 'WebScraping', 'TheSparkFoundation-EDA', 'TheSaprkFoundation-EDA', 'TheSparkFoundation-DecisionTreeTask', 'The-Spark-Foundation-Task-2', 'The-Spark-Foundation-Task1', 'NLP-AtoZ', 'Select-the-Right-Threshold-values-using-ROC-Curve', 'FaceRecognition', 'FeatureEngineeringTechniques', 'LinearRegression-', 'Traffic_Sign_Recognition', '1', '3', '0']\n"
     ]
    }
   ],
   "source": [
    "from autoscraper import AutoScraper\n",
    "url=\"https://github.com/radhikarangu?tab=repositories\"\n",
    "wanted_list = [\"Iris-Data\",\"1\"]\n",
    "\n",
    "scraper = AutoScraper()\n",
    "result = scraper.build(url, wanted_list)\n",
    "print(result)"
   ]
  },
  {
   "cell_type": "code",
   "execution_count": 4,
   "metadata": {},
   "outputs": [
    {
     "data": {
      "text/plain": [
       "{'rule_znp9': ['Iris-Data',\n",
       "  'Drawdata-Python-Library-To-Draw-Dataset-In-Jupyter-Notebook',\n",
       "  'Autoviz-Automatically-Visualize-Any-Dataset-With-Single-Line-Of-Code',\n",
       "  'Automating-WebScraping-Amazon-Ecommerce-Website-Using-AutoScrapper',\n",
       "  'GitDemo',\n",
       "  'Auto-Arima-Forecasting',\n",
       "  'flask_DAQ',\n",
       "  'Deployment-of-Credit-Card-Default-Predictor-using-Flask1',\n",
       "  'Deployment-of-Credit-Card-Default-Predictor-using-Flask',\n",
       "  'Technocolabs-DataScience-MiniProject',\n",
       "  'Feature-Engineering',\n",
       "  'Machine-Learning-Explainability',\n",
       "  'Learn-Intro-to-Machine-learning',\n",
       "  'Data-Manipulation',\n",
       "  'Data-Visualization',\n",
       "  'Data-Cleaning',\n",
       "  'Scaling-and-Normalization',\n",
       "  'Missing_values',\n",
       "  'WebScraping',\n",
       "  'TheSparkFoundation-EDA',\n",
       "  'TheSaprkFoundation-EDA',\n",
       "  'TheSparkFoundation-DecisionTreeTask',\n",
       "  'The-Spark-Foundation-Task-2',\n",
       "  'The-Spark-Foundation-Task1',\n",
       "  'NLP-AtoZ',\n",
       "  'Select-the-Right-Threshold-values-using-ROC-Curve',\n",
       "  'FaceRecognition',\n",
       "  'FeatureEngineeringTechniques',\n",
       "  'LinearRegression-',\n",
       "  'Traffic_Sign_Recognition'],\n",
       " 'rule_tie2': ['1', '3', '0']}"
      ]
     },
     "execution_count": 4,
     "metadata": {},
     "output_type": "execute_result"
    }
   ],
   "source": [
    "scraper.get_result_similar(\"https://github.com/radhikarangu?tab=repositories\",grouped=True)"
   ]
  },
  {
   "cell_type": "code",
   "execution_count": 5,
   "metadata": {},
   "outputs": [],
   "source": [
    "scraper.set_rule_aliases({'rule_znp9': 'Title','rule_tie2':'Followers'})\n",
    "scraper.keep_rules(['rule_znp9','rule_tie2'])\n",
    "scraper.save('github-repository-search')"
   ]
  },
  {
   "cell_type": "code",
   "execution_count": 6,
   "metadata": {},
   "outputs": [],
   "source": [
    "scraper.load('github-repository-search')"
   ]
  },
  {
   "cell_type": "code",
   "execution_count": 7,
   "metadata": {},
   "outputs": [],
   "source": [
    "result=scraper.get_result_similar(\"https://github.com/radhikarangu?tab=repositories\",group_by_alias=True)"
   ]
  },
  {
   "cell_type": "code",
   "execution_count": 8,
   "metadata": {},
   "outputs": [
    {
     "data": {
      "text/plain": [
       "{'Title': ['Iris-Data',\n",
       "  'Drawdata-Python-Library-To-Draw-Dataset-In-Jupyter-Notebook',\n",
       "  'Autoviz-Automatically-Visualize-Any-Dataset-With-Single-Line-Of-Code',\n",
       "  'Automating-WebScraping-Amazon-Ecommerce-Website-Using-AutoScrapper',\n",
       "  'GitDemo',\n",
       "  'Auto-Arima-Forecasting',\n",
       "  'flask_DAQ',\n",
       "  'Deployment-of-Credit-Card-Default-Predictor-using-Flask1',\n",
       "  'Deployment-of-Credit-Card-Default-Predictor-using-Flask',\n",
       "  'Technocolabs-DataScience-MiniProject',\n",
       "  'Feature-Engineering',\n",
       "  'Machine-Learning-Explainability',\n",
       "  'Learn-Intro-to-Machine-learning',\n",
       "  'Data-Manipulation',\n",
       "  'Data-Visualization',\n",
       "  'Data-Cleaning',\n",
       "  'Scaling-and-Normalization',\n",
       "  'Missing_values',\n",
       "  'WebScraping',\n",
       "  'TheSparkFoundation-EDA',\n",
       "  'TheSaprkFoundation-EDA',\n",
       "  'TheSparkFoundation-DecisionTreeTask',\n",
       "  'The-Spark-Foundation-Task-2',\n",
       "  'The-Spark-Foundation-Task1',\n",
       "  'NLP-AtoZ',\n",
       "  'Select-the-Right-Threshold-values-using-ROC-Curve',\n",
       "  'FaceRecognition',\n",
       "  'FeatureEngineeringTechniques',\n",
       "  'LinearRegression-',\n",
       "  'Traffic_Sign_Recognition'],\n",
       " 'Followers': ['1', '3', '0']}"
      ]
     },
     "execution_count": 8,
     "metadata": {},
     "output_type": "execute_result"
    }
   ],
   "source": [
    "result"
   ]
  },
  {
   "cell_type": "code",
   "execution_count": 9,
   "metadata": {},
   "outputs": [
    {
     "data": {
      "text/plain": [
       "['1', '3', '0']"
      ]
     },
     "execution_count": 9,
     "metadata": {},
     "output_type": "execute_result"
    }
   ],
   "source": [
    "result['Followers']"
   ]
  },
  {
   "cell_type": "code",
   "execution_count": 10,
   "metadata": {},
   "outputs": [
    {
     "data": {
      "text/plain": [
       "['Iris-Data',\n",
       " 'Drawdata-Python-Library-To-Draw-Dataset-In-Jupyter-Notebook',\n",
       " 'Autoviz-Automatically-Visualize-Any-Dataset-With-Single-Line-Of-Code',\n",
       " 'Automating-WebScraping-Amazon-Ecommerce-Website-Using-AutoScrapper',\n",
       " 'GitDemo',\n",
       " 'Auto-Arima-Forecasting',\n",
       " 'flask_DAQ',\n",
       " 'Deployment-of-Credit-Card-Default-Predictor-using-Flask1',\n",
       " 'Deployment-of-Credit-Card-Default-Predictor-using-Flask',\n",
       " 'Technocolabs-DataScience-MiniProject',\n",
       " 'Feature-Engineering',\n",
       " 'Machine-Learning-Explainability',\n",
       " 'Learn-Intro-to-Machine-learning',\n",
       " 'Data-Manipulation',\n",
       " 'Data-Visualization',\n",
       " 'Data-Cleaning',\n",
       " 'Scaling-and-Normalization',\n",
       " 'Missing_values',\n",
       " 'WebScraping',\n",
       " 'TheSparkFoundation-EDA',\n",
       " 'TheSaprkFoundation-EDA',\n",
       " 'TheSparkFoundation-DecisionTreeTask',\n",
       " 'The-Spark-Foundation-Task-2',\n",
       " 'The-Spark-Foundation-Task1',\n",
       " 'NLP-AtoZ',\n",
       " 'Select-the-Right-Threshold-values-using-ROC-Curve',\n",
       " 'FaceRecognition',\n",
       " 'FeatureEngineeringTechniques',\n",
       " 'LinearRegression-',\n",
       " 'Traffic_Sign_Recognition']"
      ]
     },
     "execution_count": 10,
     "metadata": {},
     "output_type": "execute_result"
    }
   ],
   "source": [
    "result['Title']"
   ]
  },
  {
   "cell_type": "code",
   "execution_count": null,
   "metadata": {},
   "outputs": [],
   "source": []
  }
 ],
 "metadata": {
  "kernelspec": {
   "display_name": "Python 3",
   "language": "python",
   "name": "python3"
  },
  "language_info": {
   "codemirror_mode": {
    "name": "ipython",
    "version": 3
   },
   "file_extension": ".py",
   "mimetype": "text/x-python",
   "name": "python",
   "nbconvert_exporter": "python",
   "pygments_lexer": "ipython3",
   "version": "3.7.4"
  }
 },
 "nbformat": 4,
 "nbformat_minor": 2
}
